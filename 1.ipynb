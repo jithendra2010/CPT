{
 "cells": [
  {
   "cell_type": "code",
   "execution_count": 1,
   "id": "09a14f9c",
   "metadata": {},
   "outputs": [
    {
     "name": "stdout",
     "output_type": "stream",
     "text": [
      "Min:1 , Max:5 , Avg=3.0\n"
     ]
    }
   ],
   "source": [
    "#write a program to return n number of multiple values where pasing a list of 1 to 55 elements\n",
    "#return the min max and avg in single function\n",
    "def sample(x):\n",
    "    return min(x),max(x),(sum(x)/len(x))\n",
    "min,max,avg=sample(x=[1,2,3,4,5])\n",
    "print(f\"Min:{min} , Max:{max} , Avg={avg}\")"
   ]
  },
  {
   "cell_type": "code",
   "execution_count": 2,
   "id": "773be71c",
   "metadata": {},
   "outputs": [
    {
     "name": "stdout",
     "output_type": "stream",
     "text": [
      "Hello,student!!\n"
     ]
    }
   ],
   "source": [
    "def ji(name):\n",
    "    return f\"Hello,{name}!!\"\n",
    "print(ji(\"student\"))"
   ]
  },
  {
   "cell_type": "code",
   "execution_count": 3,
   "id": "8d46a9e1",
   "metadata": {},
   "outputs": [
    {
     "name": "stdout",
     "output_type": "stream",
     "text": [
      "5\n",
      "15\n"
     ]
    }
   ],
   "source": [
    "#fuction with default parameters\n",
    "def sample(a,b=1):\n",
    "    return a*b\n",
    "print(sample(5))\n",
    "print(sample(5,3))"
   ]
  },
  {
   "cell_type": "code",
   "execution_count": 4,
   "id": "37c18f49",
   "metadata": {},
   "outputs": [
    {
     "name": "stdout",
     "output_type": "stream",
     "text": [
      "6\n",
      "110\n",
      "1158\n"
     ]
    }
   ],
   "source": [
    "#funcion with keyword args*\n",
    "def result(*args):\n",
    "    return sum(args)\n",
    "print(result(1,2,3))\n",
    "print(result(11,22,33,44))\n",
    "print(result(123,234,345,456))"
   ]
  },
  {
   "cell_type": "code",
   "execution_count": 5,
   "id": "25a5ed4b",
   "metadata": {},
   "outputs": [
    {
     "name": "stdout",
     "output_type": "stream",
     "text": [
      "name : sai\n",
      "age : 20\n",
      "city : vijayawa\n",
      "<function info at 0x0000021FB5B7CAE0>\n"
     ]
    }
   ],
   "source": [
    "#functin with keyword args **\n",
    "def info(**kwargs):\n",
    "    for key, value in kwargs.items():\n",
    "        print(f\"{key} : {value}\")\n",
    "info(name=\"sai\",age=20,city=\"vijayawa\")\n",
    "print(info)"
   ]
  },
  {
   "cell_type": "code",
   "execution_count": 6,
   "id": "9ff6d471",
   "metadata": {},
   "outputs": [
    {
     "name": "stdout",
     "output_type": "stream",
     "text": [
      "25\n",
      "8\n"
     ]
    }
   ],
   "source": [
    "# lambda fun\n",
    "sq= lambda x:x*x\n",
    "print(sq(5))\n",
    "add= lambda a,b:a+b\n",
    "print(add(3,5))"
   ]
  },
  {
   "cell_type": "code",
   "execution_count": 9,
   "id": "3a828c12",
   "metadata": {},
   "outputs": [
    {
     "name": "stdout",
     "output_type": "stream",
     "text": [
      "120\n"
     ]
    }
   ],
   "source": [
    "def fact(n):\n",
    "    if n==0 or n==1:\n",
    "        return 1\n",
    "    return n* fact(n-1)\n",
    "print(fact(5))"
   ]
  },
  {
   "cell_type": "code",
   "execution_count": 12,
   "id": "c8deb06d",
   "metadata": {},
   "outputs": [
    {
     "name": "stdout",
     "output_type": "stream",
     "text": [
      "True\n",
      "True\n"
     ]
    }
   ],
   "source": [
    "def e(n):\n",
    "    if n==0:\n",
    "        return True\n",
    "    return o(n-1)\n",
    "def o(n):\n",
    "    if n==0:\n",
    "        return False\n",
    "    return e(n-1)\n",
    "print(e(4))\n",
    "print(o(5))"
   ]
  },
  {
   "cell_type": "code",
   "execution_count": 13,
   "id": "00a2c01a",
   "metadata": {},
   "outputs": [
    {
     "name": "stdout",
     "output_type": "stream",
     "text": [
      "120\n"
     ]
    }
   ],
   "source": [
    "def fact(n,t=1):\n",
    "    if n==0 or n==1:\n",
    "        return t\n",
    "    return fact(n-1,n*t)\n",
    "print(fact(5))"
   ]
  },
  {
   "cell_type": "code",
   "execution_count": 14,
   "id": "47b71004",
   "metadata": {},
   "outputs": [
    {
     "name": "stdout",
     "output_type": "stream",
     "text": [
      "55\n"
     ]
    }
   ],
   "source": [
    "#linear rec\n",
    "def total(n):\n",
    "    if n<=0:\n",
    "        return 0\n",
    "    return n+total(n-1)\n",
    "print(total(10))"
   ]
  }
 ],
 "metadata": {
  "kernelspec": {
   "display_name": "Python 3",
   "language": "python",
   "name": "python3"
  },
  "language_info": {
   "codemirror_mode": {
    "name": "ipython",
    "version": 3
   },
   "file_extension": ".py",
   "mimetype": "text/x-python",
   "name": "python",
   "nbconvert_exporter": "python",
   "pygments_lexer": "ipython3",
   "version": "3.12.10"
  }
 },
 "nbformat": 4,
 "nbformat_minor": 5
}
