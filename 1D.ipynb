{
 "cells": [
  {
   "cell_type": "code",
   "execution_count": 4,
   "id": "aae7fa74-112b-4be9-b08e-51fb0f3538a0",
   "metadata": {},
   "outputs": [
    {
     "name": "stdout",
     "output_type": "stream",
     "text": [
      "[10, 20, 25, 30, 40, 50]\n",
      "10 20 25 40 \n",
      " 25 is array True\n"
     ]
    }
   ],
   "source": [
    "#Array operations\n",
    "#program to consider a list arr=[10,20,30,40] and perform insert operations with 50 and 25 respectivly\n",
    "#and deletion operation 30 and traverse \n",
    "#the array to fetch a number 25 is present or not.\n",
    "\n",
    "arr=[10,20,30,40]\n",
    "arr.append(50)                      #insert\n",
    "arr.insert(2,25)\n",
    "print(arr)\n",
    "arr.remove(30)                      #deleting\n",
    "arr.pop()\n",
    "for i in arr:                       #traversal\n",
    "    print(i, end=' ')\n",
    "print(\"\\n 25 is array\",25 in arr)   #searching"
   ]
  },
  {
   "cell_type": "code",
   "execution_count": 3,
   "id": "8896e8ae-c4b9-49dd-a34b-eea6cdc5e9af",
   "metadata": {},
   "outputs": [
    {
     "name": "stdin",
     "output_type": "stream",
     "text": [
      "enter the name: malayalam\n"
     ]
    },
    {
     "name": "stdout",
     "output_type": "stream",
     "text": [
      "palindrome\n",
      "{'m': 1}\n",
      "{'m': 1, 'a': 1}\n",
      "{'m': 1, 'a': 1, 'l': 1}\n",
      "{'m': 1, 'a': 2, 'l': 1}\n",
      "{'m': 1, 'a': 2, 'l': 1, 'y': 1}\n",
      "{'m': 1, 'a': 3, 'l': 1, 'y': 1}\n",
      "{'m': 1, 'a': 3, 'l': 2, 'y': 1}\n",
      "{'m': 1, 'a': 4, 'l': 2, 'y': 1}\n",
      "{'m': 2, 'a': 4, 'l': 2, 'y': 1}\n"
     ]
    }
   ],
   "source": [
    "'''program to check wether the given string is palindrome or not and\n",
    "   count the palandromic characters which are repeated\n",
    "  str = madam\n",
    "  op: {'m':2,'a':2,'d':1}\n",
    "  str = malayalam'''\n",
    "a=input(\"enter the name:\")\n",
    "if a==a[::-1]:\n",
    "    print(\"palindrome\")\n",
    "else:\n",
    "    print(\"noo\")\n",
    "freq={}\n",
    "for i in a:\n",
    "    freq[i]=freq.get(i,0)+1\n",
    "    print(freq)"
   ]
  },
  {
   "cell_type": "code",
   "execution_count": 1,
   "id": "17cf63e8-ee70-4688-bf3b-b10480605395",
   "metadata": {},
   "outputs": [
    {
     "name": "stdin",
     "output_type": "stream",
     "text": [
      "enter the size of array: 4\n"
     ]
    },
    {
     "name": "stdout",
     "output_type": "stream",
     "text": [
      "enter the elements:\n"
     ]
    },
    {
     "name": "stdin",
     "output_type": "stream",
     "text": [
      "Element 1: 1\n",
      "Element 2: 2\n",
      "Element 3: 3\n",
      "Element 4: 4\n",
      "enter the element to search: 5\n"
     ]
    },
    {
     "name": "stdout",
     "output_type": "stream",
     "text": [
      "not found\n"
     ]
    }
   ],
   "source": [
    "'''\n",
    "in sort or unsorted array \n",
    "-------------------------\n",
    "1. arr of list of size n\n",
    "2. key for search element \n",
    "3. start with zero index\n",
    "4. compare arr[i]==key\n",
    "           arr[i] = key return index\n",
    "           else not(move to next index)\n",
    "5. repeat same steps till n-1\n",
    "6.if no match return -1'''\n",
    "\n",
    "\n",
    "def linear_search(arr,key):\n",
    "    for i in range(len(arr)):\n",
    "        if arr[i]==key:\n",
    "            return i\n",
    "    return -1\n",
    "\n",
    "s=int(input(\"enter the size of array:\"))\n",
    "arr=[]\n",
    "print(\"enter the elements:\")\n",
    "for i in range(s):\n",
    "    num=int(input(f\"Element {i+1}:\"))\n",
    "    arr.append(num)\n",
    "key=int(input(\"enter the element to search:\"))\n",
    "result=linear_search(arr,key)\n",
    "if result != -1:\n",
    "    print(f\"\\n Element {key} found at {result}\")\n",
    "else:\n",
    "    print(\"not found\")"
   ]
  },
  {
   "cell_type": "code",
   "execution_count": 6,
   "id": "d3744776-0e77-4c55-825a-9f4507509434",
   "metadata": {},
   "outputs": [
    {
     "name": "stdin",
     "output_type": "stream",
     "text": [
      "enter the size of array: 4\n"
     ]
    },
    {
     "name": "stdout",
     "output_type": "stream",
     "text": [
      "enter the elements:\n"
     ]
    },
    {
     "name": "stdin",
     "output_type": "stream",
     "text": [
      "Element 1: 1\n",
      "Element 2: 2\n",
      "Element 3: 3\n",
      "Element 4: 4\n",
      "enter the element to search: 4\n"
     ]
    },
    {
     "name": "stdout",
     "output_type": "stream",
     "text": [
      "\n",
      " Element 4 found at 3\n"
     ]
    }
   ],
   "source": [
    "'''\n",
    "#binary search\n",
    "--------------\n",
    "set low & high 0 to n-1\n",
    "condition low<=high\n",
    "mid=low+high//2\n",
    "arr[mid]==key return mid\n",
    "arr[mid]<key low mid+1\n",
    "arr[mid]>key high mid-1\n",
    "not found return -1\n",
    "--------------   '''\n",
    "\n",
    "def binary_search(arr,key):\n",
    "    low=0\n",
    "    high=len(arr)-1\n",
    "    while low<=high:\n",
    "        mid=(low+high)//2\n",
    "        if arr[mid]==key:\n",
    "            return mid\n",
    "        elif arr[mid]<key:\n",
    "            low=mid+1\n",
    "        elif arr[mid]>key:\n",
    "            high=mid-1\n",
    "    return-1\n",
    "\n",
    "s=int(input(\"enter the size of array:\"))\n",
    "arr=[]\n",
    "print(\"enter the elements:\")\n",
    "for i in range(s):\n",
    "    num=int(input(f\"Element {i+1}:\"))\n",
    "    arr.append(num)\n",
    "key=int(input(\"enter the element to search:\"))\n",
    "result=binary_search(arr,key)\n",
    "if result != -1:\n",
    "    print(f\"\\n Element {key} found at {result}\")\n",
    "else:\n",
    "    print(\"not found\")\n",
    "        \n",
    "    "
   ]
  },
  {
   "cell_type": "code",
   "execution_count": null,
   "id": "82763af6-9512-4230-a782-c499c0e48fd0",
   "metadata": {},
   "outputs": [],
   "source": []
  }
 ],
 "metadata": {
  "kernelspec": {
   "display_name": "Python 3 (ipykernel)",
   "language": "python",
   "name": "python3"
  },
  "language_info": {
   "codemirror_mode": {
    "name": "ipython",
    "version": 3
   },
   "file_extension": ".py",
   "mimetype": "text/x-python",
   "name": "python",
   "nbconvert_exporter": "python",
   "pygments_lexer": "ipython3",
   "version": "3.13.5"
  }
 },
 "nbformat": 4,
 "nbformat_minor": 5
}
