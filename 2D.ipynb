{
 "cells": [
  {
   "cell_type": "code",
   "execution_count": 11,
   "id": "92e79b2c-2938-40cb-8a55-f696db7430ef",
   "metadata": {},
   "outputs": [
    {
     "name": "stdin",
     "output_type": "stream",
     "text": [
      " 15\n"
     ]
    },
    {
     "name": "stdout",
     "output_type": "stream",
     "text": [
      "Element 15 found at index :7\n"
     ]
    }
   ],
   "source": [
    "'''#jump search\n",
    "1.size n/ stored\n",
    "2.create a block key\n",
    "3.search operation will be performed\n",
    " arr[m] <var/key <arr(k+1)[m]\n",
    "4.compare each jump linearly'''\n",
    "\n",
    "import math\n",
    "\n",
    "def jump_search(a,target):\n",
    "    if not a:\n",
    "        return -1\n",
    "    n= len(a)\n",
    "    step=int(math.sqrt(n))\n",
    "    prev=0\n",
    "    while prev <n and a[prev]<target:\n",
    "        prev +=step\n",
    "    for i in range(max(0,prev-step),min(n,prev+1)):\n",
    "        if a[i]==target:\n",
    "            return i\n",
    "    return -1\n",
    "\n",
    "a=[1,3,5,7,9,11,13,15,17,19]\n",
    "target= int(input())\n",
    "r= jump_search(a,target)\n",
    "print(f\"Element {target} found at index :{r}\")"
   ]
  },
  {
   "cell_type": "code",
   "execution_count": 29,
   "id": "d70db465-77d6-44fe-b5e1-76f48245b6ec",
   "metadata": {},
   "outputs": [
    {
     "name": "stdin",
     "output_type": "stream",
     "text": [
      " 20\n"
     ]
    },
    {
     "name": "stdout",
     "output_type": "stream",
     "text": [
      "Element 20 fount at index:9\n"
     ]
    }
   ],
   "source": [
    "'''\n",
    "Exponential search\n",
    "1. sorte numbers searching\n",
    "2. check the array !=0m\n",
    "3. check the first element \n",
    "4. find the range using expo\n",
    "  while for boundary\n",
    "  identify within boundary\n",
    "5. range perform binary search\n",
    "6. return result\n",
    "\n",
    "'''\n",
    "def bsearch_range(a,t,left,right):\n",
    "    while left <= right:\n",
    "        mid=(left+right)//2\n",
    "        if a[mid]==t:\n",
    "            return mid\n",
    "        elif a[mid]<t:\n",
    "            left=mid+1\n",
    "        else:\n",
    "            right=mid-1\n",
    "    return -1\n",
    "\n",
    "def expo_search(a,t):\n",
    "    if not a:\n",
    "        return -1\n",
    "    if a[0]==t:\n",
    "        return 0\n",
    "    n=len(a)\n",
    "    i=1\n",
    "    while i<n and a[i]<=t:\n",
    "        i*=2\n",
    "    return bsearch_range(a,t,i//2,min(i,n-1))\n",
    "    \n",
    "        \n",
    "\n",
    "a=[2,4,6,8,10,12,14,16,18,20]\n",
    "t=int(input())\n",
    "r= expo_search(a,t)\n",
    "print(f\"Element {t} fount at index:{r}\")\n"
   ]
  },
  {
   "cell_type": "code",
   "execution_count": 35,
   "id": "10559cdd-756e-41be-878b-a598776c448b",
   "metadata": {},
   "outputs": [
    {
     "name": "stdin",
     "output_type": "stream",
     "text": [
      " 4\n"
     ]
    },
    {
     "name": "stdout",
     "output_type": "stream",
     "text": [
      "Element 4 fount at index:1\n"
     ]
    }
   ],
   "source": [
    "'''\n",
    "Fibonacci search\n",
    "\n",
    "1. find smallest fibo number\n",
    "2.\n",
    "\n",
    "'''\n",
    "def fib_search(a,t):\n",
    "    if not a:\n",
    "        return -1\n",
    "    n=len(a)\n",
    "    f2=0\n",
    "    f1=1\n",
    "    f=f1+f2\n",
    "    while f<n:\n",
    "        f2=f1\n",
    "        f1=f\n",
    "        f=f1+f2\n",
    "    offset= -1\n",
    "    while f>1:\n",
    "        i=min(offset+f2,n-1)\n",
    "        if a[i]==t:\n",
    "            return i\n",
    "        elif a[i]<t:\n",
    "            offset=i\n",
    "            f=f1\n",
    "            f1=f2\n",
    "            f2=f-f1\n",
    "        else:\n",
    "            f=f2\n",
    "            f1=f1-f2\n",
    "            f2=f-f1\n",
    "    if f==1 and offset+1<n and a[offset+1] == t:\n",
    "        return offset+1\n",
    "    return -1\n",
    "a=[2,4,6,8,10]\n",
    "t=int(input())\n",
    "r=fib_search(a,t)\n",
    "print(f\"Element {t} fount at index:{r}\")\n",
    "\n"
   ]
  },
  {
   "cell_type": "code",
   "execution_count": null,
   "id": "4fb981e5-598c-4faa-8974-6270c4f2a333",
   "metadata": {},
   "outputs": [],
   "source": []
  }
 ],
 "metadata": {
  "kernelspec": {
   "display_name": "Python 3 (ipykernel)",
   "language": "python",
   "name": "python3"
  },
  "language_info": {
   "codemirror_mode": {
    "name": "ipython",
    "version": 3
   },
   "file_extension": ".py",
   "mimetype": "text/x-python",
   "name": "python",
   "nbconvert_exporter": "python",
   "pygments_lexer": "ipython3",
   "version": "3.12.7"
  }
 },
 "nbformat": 4,
 "nbformat_minor": 5
}
