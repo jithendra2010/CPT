{
 "cells": [
  {
   "cell_type": "code",
   "execution_count": 13,
   "id": "641214b8-78d7-459f-a8a7-72b07395a1e1",
   "metadata": {},
   "outputs": [
    {
     "name": "stdin",
     "output_type": "stream",
     "text": [
      "Enter single word mis\n"
     ]
    },
    {
     "name": "stdout",
     "output_type": "stream",
     "text": [
      "original string: mis\n",
      "sorted string: ims\n"
     ]
    }
   ],
   "source": [
    "#counting sort\n",
    "\n",
    "def csort_string(name):\n",
    "    count=[0]*26\n",
    "    for char in name:\n",
    "        count[ord(char)-ord('a')]+=1\n",
    "    sorted_str=''\n",
    "    for i in range(26):\n",
    "        sorted_str+= chr(i+ord('a')) * count[i]\n",
    "    return sorted_str\n",
    "\n",
    "name=input(\"Enter single word\")\n",
    "sorted_name = csort_string(name)\n",
    "print(\"original string:\",name)\n",
    "print(\"sorted string:\",sorted_name)\n"
   ]
  },
  {
   "cell_type": "code",
   "execution_count": 24,
   "id": "4bbed3ad-2fd6-4a5b-9cf8-d82ff28ee0b0",
   "metadata": {},
   "outputs": [
    {
     "name": "stdout",
     "output_type": "stream",
     "text": [
      "Before sort: [3, 65, 68, 104, 73, 21, 53, 93]\n",
      "After sort: [3, 21, 53, 65, 68, 73, 93, 104]\n"
     ]
    }
   ],
   "source": [
    "def count_sort(arr,exp):\n",
    "    n=len(arr)\n",
    "    output=[0]*n\n",
    "    count=[0] *10\n",
    "    for i in range(n):\n",
    "        index=(arr[i]//exp)%10\n",
    "        count[index]+=1\n",
    "    for i in range(1,10):\n",
    "        count[i]+=count[i-1]\n",
    "    i=n-1\n",
    "    while i>=0:\n",
    "        index=(arr[i]//exp)%10\n",
    "        output[count[index]-1]=arr[i]\n",
    "        count[index]-=1\n",
    "        i-=1\n",
    "    for i in range(n):\n",
    "        arr[i]=output[i]\n",
    "def radix_sort(arr):\n",
    "    max_num=max(arr)\n",
    "    exp=1\n",
    "    while max_num //exp>0:\n",
    "        count_sort(arr,exp)\n",
    "        exp*=10\n",
    "\n",
    "arr=[3,65,68,104,73,21,53,93]\n",
    "print(\"Before sort:\",arr)\n",
    "radix_sort(arr)\n",
    "print(\"After sort:\",arr)"
   ]
  },
  {
   "cell_type": "code",
   "execution_count": null,
   "id": "cbf7ce23-b5be-4e5c-a846-5d97aa4dbef2",
   "metadata": {},
   "outputs": [],
   "source": []
  },
  {
   "cell_type": "code",
   "execution_count": null,
   "id": "8a2c4655-eff2-46b9-9415-e379fac26111",
   "metadata": {},
   "outputs": [],
   "source": []
  }
 ],
 "metadata": {
  "kernelspec": {
   "display_name": "Python 3 (ipykernel)",
   "language": "python",
   "name": "python3"
  },
  "language_info": {
   "codemirror_mode": {
    "name": "ipython",
    "version": 3
   },
   "file_extension": ".py",
   "mimetype": "text/x-python",
   "name": "python",
   "nbconvert_exporter": "python",
   "pygments_lexer": "ipython3",
   "version": "3.12.7"
  }
 },
 "nbformat": 4,
 "nbformat_minor": 5
}
