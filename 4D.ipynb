{
 "cells": [
  {
   "cell_type": "code",
   "execution_count": 39,
   "id": "b6b5c63a-7ec8-40a9-9fe2-9a12876d0e77",
   "metadata": {},
   "outputs": [
    {
     "name": "stdin",
     "output_type": "stream",
     "text": [
      "Enter numbers seperated with space: 20 4 48 2 0 64 3 3\n"
     ]
    },
    {
     "name": "stdout",
     "output_type": "stream",
     "text": [
      "Flip at 6:[64, 0, 2, 48, 4, 20, 3, 3]\n",
      "Flip at 8:[3, 3, 20, 4, 48, 2, 0, 64]\n",
      "Flip at 5:[48, 4, 20, 3, 3, 2, 0, 64]\n",
      "Flip at 7:[0, 2, 3, 3, 20, 4, 48, 64]\n",
      "Flip at 5:[20, 3, 3, 2, 0, 4, 48, 64]\n",
      "Flip at 6:[4, 0, 2, 3, 3, 20, 48, 64]\n",
      "Flip at 5:[3, 3, 2, 0, 4, 20, 48, 64]\n",
      "Flip at 4:[0, 2, 3, 3, 4, 20, 48, 64]\n",
      "sorted [0, 2, 3, 3, 4, 20, 48, 64]\n"
     ]
    }
   ],
   "source": [
    "#pancake sort\n",
    "'''\n",
    "1.start omplt array and decrease the size (n-1)\n",
    "2. fo eah size:\n",
    "    a.find the index of max element\n",
    "    b.flip the array with max element index\n",
    "    c.flip the total arry to the current size\n",
    "  max->move to the end of array\n",
    "3. repeat step by n-2,n-3.....\n",
    "   for n the reduced eelement perform step2 untill 0th index value rspecivly.....'''\n",
    "\n",
    "def flip(arr,k):\n",
    "    return arr[:k+1][::-1]+arr[k+1:]\n",
    "\n",
    "def pancake(arr):\n",
    "    n=len(arr)\n",
    "    for size in range(n,1,-1):\n",
    "        max_index=arr.index(max(arr[:size]))\n",
    "        if max_index !=size-1:\n",
    "            if max_index !=0:\n",
    "                arr=flip(arr,max_index)\n",
    "                print(f\"Flip at {max_index+1}:{arr}\")\n",
    "            arr=flip(arr,size-1)\n",
    "            print(f\"Flip at {size}:{arr}\")\n",
    "    return arr\n",
    "\n",
    "num=list(map(int,input(\"Enter numbers seperated with space:\").split()))\n",
    "s_num=pancake(num)\n",
    "print(\"sorted\",s_num)"
   ]
  },
  {
   "cell_type": "code",
   "execution_count": null,
   "id": "da77fa2d-251f-45b4-b294-1955d7c855f9",
   "metadata": {},
   "outputs": [],
   "source": [
    "file handling:\n",
    "file \n",
    "type paths\n",
    "open/clode\n",
    "reading\n",
    "writing\n",
    "appending "
   ]
  },
  {
   "cell_type": "code",
   "execution_count": null,
   "id": "d0833988-9d6c-4280-901f-603808fc2909",
   "metadata": {},
   "outputs": [],
   "source": []
  },
  {
   "cell_type": "code",
   "execution_count": null,
   "id": "e8808b93-c567-4eb8-99f9-ef199b2f7d4f",
   "metadata": {},
   "outputs": [],
   "source": []
  },
  {
   "cell_type": "code",
   "execution_count": null,
   "id": "fc3a516c-fc5d-414c-97c7-ea73ce281b38",
   "metadata": {},
   "outputs": [],
   "source": []
  },
  {
   "cell_type": "code",
   "execution_count": null,
   "id": "e350b949-e7b3-44a4-81ff-e24b486e9d08",
   "metadata": {},
   "outputs": [],
   "source": []
  }
 ],
 "metadata": {
  "kernelspec": {
   "display_name": "Python 3 (ipykernel)",
   "language": "python",
   "name": "python3"
  },
  "language_info": {
   "codemirror_mode": {
    "name": "ipython",
    "version": 3
   },
   "file_extension": ".py",
   "mimetype": "text/x-python",
   "name": "python",
   "nbconvert_exporter": "python",
   "pygments_lexer": "ipython3",
   "version": "3.12.7"
  }
 },
 "nbformat": 4,
 "nbformat_minor": 5
}
