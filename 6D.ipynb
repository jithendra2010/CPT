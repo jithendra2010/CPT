{
 "cells": [
  {
   "cell_type": "code",
   "execution_count": 1,
   "id": "b78f2937",
   "metadata": {},
   "outputs": [
    {
     "data": {
      "text/plain": [
       "'\\ndouble LL:\\n\\n1.insertion -- at begin,end,position\\n2.deletion  -- by value\\n3.traversal -- forword / backword\\n\\nhead <--> node1 <--> node2 <--> node3 <--> null\\n\\nnode:\\nclass node:\\n    def __init__(self,data):\\n        self.data=data\\n        self.next=None\\n'"
      ]
     },
     "execution_count": 1,
     "metadata": {},
     "output_type": "execute_result"
    }
   ],
   "source": [
    "'''\n",
    "double LL:\n",
    "\n",
    "1.insertion -- at begin,end,position\n",
    "2.deletion  -- by value\n",
    "3.traversal -- forword / backword\n",
    "\n",
    "head <--> node1 <--> node2 <--> node3 <--> null\n",
    "\n",
    "node:\n",
    "class node:\n",
    "    def __init__(self,data):\n",
    "        self.data=data\n",
    "        self.next=None\n",
    "'''"
   ]
  },
  {
   "cell_type": "code",
   "execution_count": 3,
   "id": "762bdb3c",
   "metadata": {},
   "outputs": [
    {
     "name": "stdout",
     "output_type": "stream",
     "text": [
      "Doubly Linked List:\n",
      "6<-->7<-->None\n"
     ]
    }
   ],
   "source": [
    "# at the end insertion on DLL:\n",
    "\n",
    "class Node:\n",
    "    def __init__(self,data):\n",
    "        self.data=data\n",
    "        self.prev=None\n",
    "        self.next=None\n",
    "class DoublyLinkedList:\n",
    "    def __init__(self):\n",
    "        self.head=None\n",
    "    def iae(self,data):\n",
    "        newnode=Node(data)\n",
    "        if self.head is None:\n",
    "            self.head=newnode\n",
    "            return\n",
    "        temp=self.head\n",
    "        while temp.next:\n",
    "            temp=temp.next\n",
    "        temp.next=newnode\n",
    "        newnode.prev=temp\n",
    "    def display(self):\n",
    "        temp=self.head\n",
    "        print(\"Doubly Linked List:\")\n",
    "        while temp:\n",
    "            print(temp.data,end=\"<-->\")\n",
    "            temp=temp.next\n",
    "        print(\"None\")\n",
    "\n",
    "\n",
    "dll=DoublyLinkedList()\n",
    "n=int(input(\"Enter the nuber of elements to insert at end:\"))\n",
    "for i in range(n):\n",
    "    val=int(input(f\"enter elements {i+1}:\"))\n",
    "    dll.iae(val)\n",
    "dll.display()"
   ]
  },
  {
   "cell_type": "code",
   "execution_count": 11,
   "id": "7153fd77",
   "metadata": {},
   "outputs": [
    {
     "name": "stdout",
     "output_type": "stream",
     "text": [
      "Doubly Linked List:\n",
      "7<-->6<-->None\n"
     ]
    }
   ],
   "source": [
    "# at the begining insertion on DLL:\n",
    "\n",
    "class Node:\n",
    "    def __init__(self,data):\n",
    "        self.data=data\n",
    "        self.prev=None\n",
    "        self.next=None\n",
    "class DoublyLinkedList:\n",
    "    def __init__(self):\n",
    "        self.head=None\n",
    "    def iab(self,data):\n",
    "        newnode=Node(data)\n",
    "        newnode.next=self.head\n",
    "        if self.head:\n",
    "            self.head.prev=self.head\n",
    "        self.head=newnode\n",
    "        \n",
    "    def display(self):\n",
    "        temp=self.head\n",
    "        print(\"Doubly Linked List:\")\n",
    "        while temp:\n",
    "            print(temp.data,end=\"<-->\")\n",
    "            temp=temp.next\n",
    "        print(\"None\")\n",
    "\n",
    "\n",
    "dll=DoublyLinkedList()\n",
    "n=int(input(\"Enter the nuber of elements to insert at end:\"))\n",
    "for i in range(n):\n",
    "    val=int(input(f\"enter elements {i+1}:\"))\n",
    "    dll.iab(val)\n",
    "dll.display()"
   ]
  },
  {
   "cell_type": "code",
   "execution_count": 2,
   "id": "56e3dc5f",
   "metadata": {},
   "outputs": [
    {
     "name": "stdout",
     "output_type": "stream",
     "text": [
      "Doubly Linked List:\n",
      "7<-->46<-->45<-->55<-->48<-->6<-->None\n"
     ]
    }
   ],
   "source": [
    "# at the position insertion on DLL:\n",
    "\n",
    "class Node:\n",
    "    def __init__(self,data):\n",
    "        self.data=data\n",
    "        self.prev=None\n",
    "        self.next=None\n",
    "class DoublyLinkedList:\n",
    "    def __init__(self):\n",
    "        self.head=None\n",
    "    def iap(self,pos,data):\n",
    "        newnode=Node(data)\n",
    "        if pos<=0:\n",
    "            print(\"Invalid position\")\n",
    "            return        \n",
    "        if pos==1:\n",
    "            newnode.next=self.head\n",
    "            if self.head:\n",
    "                self.head.prev=newnode\n",
    "            self.head=newnode\n",
    "            return\n",
    "        temp=self.head\n",
    "        for _ in range(pos-2):\n",
    "            if temp is None:\n",
    "                print(\"position off range\")\n",
    "                return\n",
    "            temp=temp.next\n",
    "        if temp is None:\n",
    "            print(\"no elemnts.....\")\n",
    "            return\n",
    "        newnode.next=temp.next\n",
    "        newnode.prev=temp\n",
    "        if temp.next:\n",
    "            temp.next.prev=newnode\n",
    "        temp.next=newnode\n",
    "\n",
    "\n",
    "\n",
    "    def display(self):\n",
    "        temp=self.head\n",
    "        print(\"Doubly Linked List:\")\n",
    "        while temp:\n",
    "            print(temp.data,end=\"<-->\")\n",
    "            temp=temp.next\n",
    "        print(\"None\")\n",
    "\n",
    "\n",
    "dll=DoublyLinkedList()\n",
    "n=int(input(\"Enter the nuber of elements to insert at end:\"))\n",
    "for i in range(n):\n",
    "    val=int(input(f\"enter elements {i+1}:\"))\n",
    "    pos=int(input(f\"Enter the position to insert {i+1}:\"))\n",
    "    dll.iap(pos,val)\n",
    "dll.display()"
   ]
  }
 ],
 "metadata": {
  "kernelspec": {
   "display_name": "base",
   "language": "python",
   "name": "python3"
  },
  "language_info": {
   "codemirror_mode": {
    "name": "ipython",
    "version": 3
   },
   "file_extension": ".py",
   "mimetype": "text/x-python",
   "name": "python",
   "nbconvert_exporter": "python",
   "pygments_lexer": "ipython3",
   "version": "3.12.7"
  }
 },
 "nbformat": 4,
 "nbformat_minor": 5
}
