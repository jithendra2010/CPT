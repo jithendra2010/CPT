{
 "cells": [
  {
   "cell_type": "code",
   "execution_count": 2,
   "metadata": {},
   "outputs": [
    {
     "name": "stdout",
     "output_type": "stream",
     "text": [
      "Animal Sounds\n",
      "Dog barks.......\n",
      "puppy weeps\n"
     ]
    }
   ],
   "source": [
    "class pet:\n",
    "    def sound(self):\n",
    "        print(\"Animal Sounds\")\n",
    "class dog(pet):\n",
    "    def bark(self):\n",
    "        print(\"Dog barks.......\")\n",
    "class puppy(dog):\n",
    "    def weep(self):\n",
    "        print(\"puppy weeps\")\n",
    "puppy=puppy()\n",
    "puppy.sound()\n",
    "puppy.bark()\n",
    "puppy.weep()"
   ]
  },
  {
   "cell_type": "code",
   "execution_count": 7,
   "metadata": {},
   "outputs": [
    {
     "name": "stdout",
     "output_type": "stream",
     "text": [
      "add: 9\n",
      "sub: -1\n",
      "mul: 20\n",
      "div: 0.8\n"
     ]
    }
   ],
   "source": [
    "'''code for math operations using basw class, with 1st and 2nd derived class respectively\n",
    ", Create an  obeject where derived will bae executed and perform multiple operations'''\n",
    "import math\n",
    "class number:\n",
    "    def __init__(self,a,b):\n",
    "        self.a=a\n",
    "        self.b=b\n",
    "class basicops(number):\n",
    "    def add(self):\n",
    "        return self.a+self.b\n",
    "    def sub(self):\n",
    "        return self.a-self.b\n",
    "class asvops(basicops):\n",
    "    def mul(self):\n",
    "        return self.a*self.b\n",
    "    def div(self):\n",
    "        return self.a/self.b\n",
    "        \n",
    "x=int(input(\"enter x:\"))\n",
    "y=int(input(\"enter y:\"))\n",
    "clac =asvops(x,y)\n",
    "print(\"add:\",clac.add())\n",
    "print(\"sub:\",clac.sub())\n",
    "print(\"mul:\",clac.mul())\n",
    "print(\"div:\",clac.div())\n"
   ]
  },
  {
   "cell_type": "code",
   "execution_count": 12,
   "metadata": {},
   "outputs": [
    {
     "name": "stdout",
     "output_type": "stream",
     "text": [
      "Student Name: Henry\n",
      "Total Marks: 345\n",
      "Average: 86.25\n",
      "Student Grade: B\n"
     ]
    }
   ],
   "source": [
    "''' code for student grading system , when student base class has to be derived by marks and marks with grades in a multi-level inheritance.\n",
    ", caliculate the grade to  be alloted to the student with marks A,B,C,D with >=90,>= 75, >=60 or less than 60 respectively.\n",
    "student: Henry\n",
    "marks: [85,90,78,92]\n",
    "caliculate and display marks, avg, grade of Henry '''\n",
    "\n",
    "class student:\n",
    "    def __init__(self,name):\n",
    "        self.name=name\n",
    "\n",
    "class marks(student):\n",
    "    def __init__(self, name,marks):\n",
    "        super().__init__(name)\n",
    "        self.marks=marks\n",
    "    def tol_marks(self):\n",
    "        return sum(self.marks)\n",
    "    \n",
    "class grade(marks):\n",
    "    def avg(self):\n",
    "        return self.tol_marks()/len(self.marks)\n",
    "    def cal_grade(self):\n",
    "        avg=self.avg()\n",
    "        if avg>=90:\n",
    "            return \"A\"\n",
    "        elif avg>=75:\n",
    "            return \"B\"\n",
    "        elif avg>=60:\n",
    "            return \"C\"\n",
    "        else:\n",
    "            return \"D\"\n",
    "student=grade(\"Henry\", [85,90,78,92])\n",
    "print(\"Student Name:\",student.name)\n",
    "print(\"Total Marks:\",student.tol_marks())\n",
    "print(\"Average:\",student.avg())\n",
    "print(\"Student Grade:\",student.cal_grade())\n"
   ]
  },
  {
   "cell_type": "code",
   "execution_count": 14,
   "metadata": {},
   "outputs": [
    {
     "name": "stdout",
     "output_type": "stream",
     "text": [
      "chintu barks!\n",
      "thor Meows!\n"
     ]
    }
   ],
   "source": [
    "class pet:\n",
    "    def __init__(self,name):\n",
    "        self.name=name \n",
    "    def sound(self):\n",
    "        print(f\"{self.name} marks a sound\")\n",
    "class dog(pet):\n",
    "    def sound(self):\n",
    "        print(f\"{self.name} barks!\")\n",
    "class cat(pet):\n",
    "    def sound(self):\n",
    "        print(f\"{self.name} Meows!\")\n",
    "d=dog(\"chintu\")\n",
    "c=cat(\"thor\")\n",
    "d.sound()\n",
    "c.sound()"
   ]
  },
  {
   "cell_type": "code",
   "execution_count": 20,
   "metadata": {},
   "outputs": [
    {
     "name": "stdout",
     "output_type": "stream",
     "text": [
      "area of triangle is 21.0\n",
      "area of rectangle is 50\n",
      "area of circle is 113.09733552923255\n"
     ]
    }
   ],
   "source": [
    "''' Hierarchial geometry operations of different shapes area values of all \n",
    "    circle , rectangle, triangle derived classes '''\n",
    "import math\n",
    "class shape:\n",
    "    def __init__(self,d1,d2=0):\n",
    "        self.d1=d1\n",
    "        self.d2=d2\n",
    "class rectangle(shape):\n",
    "    def area(self):\n",
    "        return self.d1 *self.d2\n",
    "class circle(shape):\n",
    "    def area(self):\n",
    "        return math.pi *self.d1*self.d1\n",
    "class triangle(shape):\n",
    "    def area(self):\n",
    "        return 0.5*self.d1*self.d2\n",
    "r=rectangle(10,5)    \n",
    "c=circle(6)\n",
    "t=triangle(6,7)\n",
    "print(\"area of triangle is\",t.area())\n",
    "print(\"area of rectangle is\",r.area())\n",
    "print(\"area of circle is\",c.area())\n"
   ]
  },
  {
   "cell_type": "code",
   "execution_count": 22,
   "metadata": {},
   "outputs": [
    {
     "name": "stdout",
     "output_type": "stream",
     "text": [
      "area of triangle is 15.0\n",
      "area of rectangle is 50\n",
      "area of circle is 113.09733552923255\n"
     ]
    }
   ],
   "source": [
    "# abstraction of the base class for evaluating the area of sq,rect,tri\n",
    "from abc import ABC, abstractmethod\n",
    "from math import pi\n",
    "class shape(ABC):\n",
    "    def __init__(self,name):\n",
    "        self.name=name\n",
    "    @abstractmethod\n",
    "    def area(self):\n",
    "        pass\n",
    "class rectangle(shape):\n",
    "    def __init__(self,l,b):\n",
    "        super().__init__(\"rectangle\")\n",
    "        self.l=l\n",
    "        self.b=b\n",
    "    def area(self):\n",
    "        return self.l *self.b\n",
    "class circle(shape):\n",
    "    def __init__(self, r):\n",
    "        super().__init__(\"circle\")\n",
    "        self.r=r\n",
    "\n",
    "    def area(self):\n",
    "        return pi *self.r*self.r\n",
    "class triangle(shape):\n",
    "    def __init__(self,l,b ):\n",
    "        super().__init__(\"triangle\")\n",
    "        self.l=l\n",
    "        self.b=b\n",
    "        \n",
    "    def area(self):\n",
    "        return 0.5*self.l*self.b\n",
    "r=rectangle(10,5)\n",
    "c=circle(6)\n",
    "t=triangle(5,6)\n",
    "print(\"area of triangle is\",t.area())\n",
    "print(\"area of rectangle is\",r.area())\n",
    "print(\"area of circle is\",c.area())\n",
    "\n"
   ]
  },
  {
   "cell_type": "code",
   "execution_count": null,
   "metadata": {},
   "outputs": [],
   "source": []
  },
  {
   "cell_type": "code",
   "execution_count": null,
   "metadata": {},
   "outputs": [],
   "source": []
  },
  {
   "cell_type": "code",
   "execution_count": null,
   "metadata": {},
   "outputs": [],
   "source": []
  },
  {
   "cell_type": "code",
   "execution_count": null,
   "metadata": {},
   "outputs": [],
   "source": []
  },
  {
   "cell_type": "code",
   "execution_count": null,
   "metadata": {},
   "outputs": [],
   "source": []
  },
  {
   "cell_type": "code",
   "execution_count": null,
   "metadata": {},
   "outputs": [],
   "source": []
  },
  {
   "cell_type": "code",
   "execution_count": null,
   "metadata": {},
   "outputs": [],
   "source": []
  },
  {
   "cell_type": "code",
   "execution_count": null,
   "metadata": {},
   "outputs": [],
   "source": []
  },
  {
   "cell_type": "code",
   "execution_count": null,
   "metadata": {},
   "outputs": [],
   "source": []
  },
  {
   "cell_type": "code",
   "execution_count": null,
   "metadata": {},
   "outputs": [],
   "source": []
  },
  {
   "cell_type": "code",
   "execution_count": null,
   "metadata": {},
   "outputs": [],
   "source": []
  },
  {
   "cell_type": "code",
   "execution_count": null,
   "metadata": {},
   "outputs": [],
   "source": []
  },
  {
   "cell_type": "code",
   "execution_count": null,
   "metadata": {},
   "outputs": [],
   "source": []
  },
  {
   "cell_type": "code",
   "execution_count": null,
   "metadata": {},
   "outputs": [],
   "source": []
  }
 ],
 "metadata": {
  "kernelspec": {
   "display_name": "base",
   "language": "python",
   "name": "python3"
  },
  "language_info": {
   "codemirror_mode": {
    "name": "ipython",
    "version": 3
   },
   "file_extension": ".py",
   "mimetype": "text/x-python",
   "name": "python",
   "nbconvert_exporter": "python",
   "pygments_lexer": "ipython3",
   "version": "3.12.7"
  }
 },
 "nbformat": 4,
 "nbformat_minor": 2
}
